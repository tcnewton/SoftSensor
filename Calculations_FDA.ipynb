{
 "cells": [
  {
   "cell_type": "markdown",
   "metadata": {},
   "source": [
    "### Condtons\n",
    "\n",
    "$ CondTons = \\dfrac{f_{wc}*(t_{co}-t_{ci})}{24} $\n",
    "\n"
   ]
  },
  {
   "cell_type": "code",
   "execution_count": null,
   "metadata": {},
   "outputs": [],
   "source": [
    "import numpy as np"
   ]
  },
  {
   "cell_type": "code",
   "execution_count": 7,
   "metadata": {},
   "outputs": [
    {
     "name": "stdout",
     "output_type": "stream",
     "text": [
      "[11.9     16.62375 14.19225]\n"
     ]
    }
   ],
   "source": [
    "fwc = np.array([170,257.4,268.2])\n",
    "tco = np.array([69.36,68.99,68.42])\n",
    "tci = np.array([67.68,67.44,67.15])\n",
    "#numbers of condtons\n",
    "\n",
    "condtons = [11.87,16.67,14.16]\n",
    "\n",
    "calc_condtons = (fwc*(tco-tci))/24\n",
    "print(calc_condtons)"
   ]
  }
 ],
 "metadata": {
  "kernelspec": {
   "display_name": "Python 3",
   "language": "python",
   "name": "python3"
  },
  "language_info": {
   "codemirror_mode": {
    "name": "ipython",
    "version": 3
   },
   "file_extension": ".py",
   "mimetype": "text/x-python",
   "name": "python",
   "nbconvert_exporter": "python",
   "pygments_lexer": "ipython3",
   "version": "3.9.7"
  }
 },
 "nbformat": 4,
 "nbformat_minor": 4
}

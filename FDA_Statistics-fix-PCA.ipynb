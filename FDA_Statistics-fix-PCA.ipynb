{
 "cells": [
  {
   "cell_type": "code",
   "execution_count": 1,
   "metadata": {},
   "outputs": [],
   "source": [
    "import pandas as pd\n",
    "import xlrd\n",
    "import numpy as np\n",
    "import seaborn as sns\n",
    "import matplotlib.pyplot as plt"
   ]
  },
  {
   "cell_type": "code",
   "execution_count": 2,
   "metadata": {},
   "outputs": [],
   "source": [
    "#return outliers > mean+3sigma or < mean-3sigma\n",
    "def outlier_3sigma(pd_column):\n",
    "    mean_vals = pd_column.mean()\n",
    "    std_vals = pd_column.std()\n",
    "    min_value = mean_vals-3*std_vals\n",
    "    max_value = mean_vals+3*std_vals\n",
    "    outliers = np.nonzero((pd_column.values>max_value)|(pd_column.values<min_value))\n",
    "    return outliers"
   ]
  },
  {
   "cell_type": "code",
   "execution_count": 3,
   "metadata": {},
   "outputs": [],
   "source": [
    "def run_columns(pd_column,idx2):\n",
    "    for col_header in pd_column.columns:\n",
    "        idx1 = outlier_3sigma(pd_column[col_header])\n",
    "        idx2 = np.union1d(idx1,idx2)\n",
    "        idx2 = np.unique(idx2)\n",
    "    return idx2"
   ]
  },
  {
   "cell_type": "markdown",
   "metadata": {},
   "source": [
    "## DEFINING VARIABLES \n",
    "**df_without_outlier** --- Variable without outlier with 40% refrigerant leaking\n",
    "\n",
    "**dfNormal_without_outlier** --- Variable without outlier with full charge of refrigerant"
   ]
  },
  {
   "cell_type": "code",
   "execution_count": 4,
   "metadata": {},
   "outputs": [],
   "source": [
    "path_to_xls = \"F:/Talles/Doutorado/database/1043-RP/FDD Data/Refrigerant leak/rl40.xls\"\n",
    "sheet = \"Complete Data Set\"\n",
    "leaking_40 = pd.read_excel(path_to_xls,sheet)\n",
    "idx2 = np.array([])\n",
    "idx2 = run_columns(leaking_40,idx2)\n",
    "dfLeaking40_without_outlier= leaking_40.drop(idx2)\n",
    "path_to_xls = \"F:/Talles/Doutorado/database/1043-RP/FDD Data/Benchmark Tests/normal r.xls\"\n",
    "sheet = \"Complete Data Set\"\n",
    "Normal_R = pd.read_excel(path_to_xls,sheet)\n",
    "idx2 = np.array([])\n",
    "idx2 = run_columns(Normal_R,idx2)\n",
    "dfNormal_without_outlier = Normal_R.drop(idx2)\n",
    "# reseting index\n",
    "dfLeaking40_without_outlier = dfLeaking40_without_outlier.reset_index(drop=True)\n",
    "dfNormal_without_outlier = dfNormal_without_outlier.reset_index(drop=True)"
   ]
  },
  {
   "cell_type": "code",
   "execution_count": 5,
   "metadata": {},
   "outputs": [],
   "source": [
    "from sklearn import decomposition\n",
    "from sklearn.preprocessing import StandardScaler\n",
    "pca = decomposition.PCA()"
   ]
  },
  {
   "cell_type": "code",
   "execution_count": 6,
   "metadata": {},
   "outputs": [
    {
     "name": "stdout",
     "output_type": "stream",
     "text": [
      "dataframe dfNormal_without_outlier.shape:(4663, 66)\n",
      "(4663, 7)\n"
     ]
    }
   ],
   "source": [
    "print(\"dataframe dfNormal_without_outlier.shape:{}\".format(dfNormal_without_outlier.shape))\n",
    "\n",
    "st_Normal = StandardScaler().fit_transform(dfNormal_without_outlier)\n",
    "pca = decomposition.PCA(0.90)\n",
    "st_Normal90 = pca.fit_transform(st_Normal) # << to retain the components in an object\n",
    "print(st_Normal90.shape)"
   ]
  },
  {
   "cell_type": "code",
   "execution_count": 7,
   "metadata": {},
   "outputs": [
    {
     "name": "stdout",
     "output_type": "stream",
     "text": [
      "dataframe dfLeaking40_without_outlier.shape:(4655, 66)\n",
      "(4655, 7)\n"
     ]
    }
   ],
   "source": [
    "print(\"dataframe dfLeaking40_without_outlier.shape:{}\".format(dfLeaking40_without_outlier.shape))\n",
    "\n",
    "st_leaking = StandardScaler().fit_transform(dfLeaking40_without_outlier)\n",
    "pca = decomposition.PCA(0.90)\n",
    "st_leaking90 = pca.fit_transform(st_leaking) # << to retain the components in an object\n",
    "print(st_leaking90.shape)"
   ]
  },
  {
   "cell_type": "markdown",
   "metadata": {},
   "source": [
    "## Adding y value on numpy array\n",
    "0 - Normal <br>\n",
    "1 - Leaking"
   ]
  },
  {
   "cell_type": "code",
   "execution_count": 8,
   "metadata": {},
   "outputs": [
    {
     "name": "stdout",
     "output_type": "stream",
     "text": [
      "st_Normal90.shape := (4663, 7) and st_leaking90.shape := (4655, 7)\n",
      "adding column y\n",
      "st_Normal90.shape := (4663, 8) and st_leaking90.shape := (4655, 8)\n"
     ]
    }
   ],
   "source": [
    "print(\"st_Normal90.shape := {} and st_leaking90.shape := {}\".format(st_Normal90.shape,st_leaking90.shape))\n",
    "st_Normal90 = np.c_[st_Normal90,np.zeros(len(st_Normal90))]\n",
    "st_leaking90 = np.c_[st_leaking90,np.ones(len(st_leaking90))]\n",
    "print(\"adding column y\")\n",
    "print(\"st_Normal90.shape := {} and st_leaking90.shape := {}\".format(st_Normal90.shape,st_leaking90.shape))"
   ]
  },
  {
   "cell_type": "code",
   "execution_count": 9,
   "metadata": {},
   "outputs": [
    {
     "name": "stdout",
     "output_type": "stream",
     "text": [
      "(9318, 8)\n"
     ]
    }
   ],
   "source": [
    "data = np.vstack((st_Normal90,st_leaking90))\n",
    "print(data.shape)"
   ]
  },
  {
   "cell_type": "code",
   "execution_count": 10,
   "metadata": {},
   "outputs": [
    {
     "name": "stdout",
     "output_type": "stream",
     "text": [
      "(9318, 7) (9318,)\n"
     ]
    }
   ],
   "source": [
    "x,y = (data[:,:-1],data[:,-1])\n",
    "print(x.shape,y.shape)"
   ]
  },
  {
   "cell_type": "code",
   "execution_count": 11,
   "metadata": {},
   "outputs": [],
   "source": [
    "from sklearn.neural_network import MLPClassifier\n",
    "from sklearn.model_selection import train_test_split"
   ]
  },
  {
   "cell_type": "code",
   "execution_count": 12,
   "metadata": {},
   "outputs": [
    {
     "name": "stdout",
     "output_type": "stream",
     "text": [
      "(6243, 7) (3075, 7) (6243,) (3075,)\n"
     ]
    }
   ],
   "source": [
    "# split into train test sets\n",
    "X_train, X_test, y_train, y_test = train_test_split(x, y, test_size=0.33, random_state=1)\n",
    "print(X_train.shape, X_test.shape, y_train.shape, y_test.shape)"
   ]
  },
  {
   "cell_type": "code",
   "execution_count": 13,
   "metadata": {},
   "outputs": [],
   "source": [
    "# standardscaler x data\n",
    "sc_x = StandardScaler()\n",
    "X_trainScaled = sc_x.fit_transform(X_train)\n",
    "X_testScaled = sc_x.fit_transform(X_test)"
   ]
  },
  {
   "cell_type": "code",
   "execution_count": 14,
   "metadata": {},
   "outputs": [
    {
     "name": "stdout",
     "output_type": "stream",
     "text": [
      "0.9928455284552845\n"
     ]
    }
   ],
   "source": [
    "clf = MLPClassifier(hidden_layer_sizes=(256,128,64,32),activation=\"relu\",random_state=1).fit(X_trainScaled, y_train)\n",
    "y_pred=clf.predict(X_testScaled)\n",
    "print(clf.score(X_testScaled, y_test))"
   ]
  }
 ],
 "metadata": {
  "kernelspec": {
   "display_name": "Python 3",
   "language": "python",
   "name": "python3"
  },
  "language_info": {
   "codemirror_mode": {
    "name": "ipython",
    "version": 3
   },
   "file_extension": ".py",
   "mimetype": "text/x-python",
   "name": "python",
   "nbconvert_exporter": "python",
   "pygments_lexer": "ipython3",
   "version": "3.6.7"
  }
 },
 "nbformat": 4,
 "nbformat_minor": 4
}

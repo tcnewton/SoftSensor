{
 "cells": [
  {
   "cell_type": "code",
   "execution_count": 1,
   "metadata": {},
   "outputs": [],
   "source": [
    "import pandas as pd\n",
    "import xlrd\n",
    "import numpy as np\n",
    "import seaborn as sns\n",
    "import matplotlib.pyplot as plt"
   ]
  },
  {
   "cell_type": "code",
   "execution_count": 2,
   "metadata": {},
   "outputs": [
    {
     "name": "stdout",
     "output_type": "stream",
     "text": [
      "shapes: train = (17389, 12), y_train = (17389, 1), test = (8566, 12), y_teste = (8566, 1)\n"
     ]
    }
   ],
   "source": [
    "main_path = '../overfitting/setTraining/select_noOhe/'\n",
    "train = np.load(main_path+'train.npy')\n",
    "test = np.load(main_path+'test.npy')\n",
    "y_train = np.load(main_path+'y_train.npy')\n",
    "y_test = np.load(main_path+'y_test.npy')\n",
    "print('shapes: train = {}, y_train = {}, test = {}, y_teste = {}'.format(train.shape,y_train.shape,test.shape,y_test.shape))"
   ]
  },
  {
   "cell_type": "code",
   "execution_count": 3,
   "metadata": {},
   "outputs": [],
   "source": [
    "# standardscaler x data\n",
    "from sklearn.preprocessing import StandardScaler\n",
    "sc_x = StandardScaler()\n",
    "X_trainScaled = sc_x.fit_transform(train)\n",
    "X_testScaled = sc_x.fit_transform(test)"
   ]
  },
  {
   "cell_type": "markdown",
   "metadata": {},
   "source": [
    "## MLP CLASSIFIER"
   ]
  },
  {
   "cell_type": "code",
   "execution_count": 4,
   "metadata": {},
   "outputs": [],
   "source": [
    "from sklearn.neural_network import MLPClassifier\n",
    "from sklearn.model_selection import RandomizedSearchCV"
   ]
  },
  {
   "cell_type": "code",
   "execution_count": 5,
   "metadata": {},
   "outputs": [
    {
     "name": "stdout",
     "output_type": "stream",
     "text": [
      "(17389,)\n"
     ]
    }
   ],
   "source": [
    "y = np.ravel(y_train)\n",
    "print(y.shape)"
   ]
  },
  {
   "cell_type": "code",
   "execution_count": 6,
   "metadata": {},
   "outputs": [
    {
     "name": "stderr",
     "output_type": "stream",
     "text": [
      "c:\\users\\tcnew\\onedrive\\documentos\\doutorado\\07_udemy\\soft_sensors\\lib\\site-packages\\sklearn\\neural_network\\_multilayer_perceptron.py:617: ConvergenceWarning: Stochastic Optimizer: Maximum iterations (100) reached and the optimization hasn't converged yet.\n",
      "  % self.max_iter, ConvergenceWarning)\n"
     ]
    },
    {
     "data": {
      "text/plain": [
       "RandomizedSearchCV(cv=5, estimator=MLPClassifier(max_iter=100), n_jobs=-1,\n",
       "                   param_distributions={'activation': ['tanh', 'relu',\n",
       "                                                       'logistic'],\n",
       "                                        'alpha': [0.0001, 0.05],\n",
       "                                        'batch_size': [10, 50],\n",
       "                                        'hidden_layer_sizes': [(10, 30, 10),\n",
       "                                                               (20,),\n",
       "                                                               (10, 30, 10,\n",
       "                                                                10)],\n",
       "                                        'learning_rate': ['constant',\n",
       "                                                          'adaptive'],\n",
       "                                        'solver': ['sgd', 'adam']})"
      ]
     },
     "execution_count": 6,
     "metadata": {},
     "output_type": "execute_result"
    }
   ],
   "source": [
    "mlp_rs = MLPClassifier(max_iter=100)\n",
    "parameter_space = {\n",
    "    'hidden_layer_sizes': [(10,30,10),(20,),(10,30,10,10)],\n",
    "    'activation': ['tanh', 'relu','logistic'],\n",
    "    'solver': ['sgd', 'adam'],\n",
    "    'alpha': [0.0001, 0.05],\n",
    "    'learning_rate': ['constant','adaptive'],\n",
    "    'batch_size':[10,50],\n",
    "}\n",
    "clf = RandomizedSearchCV(mlp_rs, parameter_space, n_jobs=-1, cv=5)\n",
    "clf.fit(X_trainScaled, y) # X is train samples and y is the corresponding labels"
   ]
  },
  {
   "cell_type": "code",
   "execution_count": 7,
   "metadata": {},
   "outputs": [
    {
     "name": "stdout",
     "output_type": "stream",
     "text": [
      "Best parameters found:\n",
      " {'solver': 'adam', 'learning_rate': 'constant', 'hidden_layer_sizes': (20,), 'batch_size': 10, 'alpha': 0.0001, 'activation': 'relu'}\n"
     ]
    }
   ],
   "source": [
    "print('Best parameters found:\\n', clf.best_params_)"
   ]
  },
  {
   "cell_type": "code",
   "execution_count": 8,
   "metadata": {},
   "outputs": [
    {
     "name": "stdout",
     "output_type": "stream",
     "text": [
      "0.679 (+/-0.032) for {'solver': 'sgd', 'learning_rate': 'adaptive', 'hidden_layer_sizes': (10, 30, 10, 10), 'batch_size': 10, 'alpha': 0.05, 'activation': 'relu'}\n",
      "0.713 (+/-0.022) for {'solver': 'adam', 'learning_rate': 'constant', 'hidden_layer_sizes': (20,), 'batch_size': 10, 'alpha': 0.0001, 'activation': 'relu'}\n",
      "0.667 (+/-0.029) for {'solver': 'sgd', 'learning_rate': 'adaptive', 'hidden_layer_sizes': (10, 30, 10), 'batch_size': 10, 'alpha': 0.05, 'activation': 'tanh'}\n",
      "0.692 (+/-0.025) for {'solver': 'sgd', 'learning_rate': 'adaptive', 'hidden_layer_sizes': (10, 30, 10, 10), 'batch_size': 50, 'alpha': 0.0001, 'activation': 'relu'}\n",
      "0.659 (+/-0.016) for {'solver': 'adam', 'learning_rate': 'constant', 'hidden_layer_sizes': (20,), 'batch_size': 50, 'alpha': 0.05, 'activation': 'tanh'}\n",
      "0.641 (+/-0.014) for {'solver': 'adam', 'learning_rate': 'adaptive', 'hidden_layer_sizes': (10, 30, 10), 'batch_size': 50, 'alpha': 0.0001, 'activation': 'logistic'}\n",
      "0.704 (+/-0.020) for {'solver': 'sgd', 'learning_rate': 'constant', 'hidden_layer_sizes': (10, 30, 10, 10), 'batch_size': 50, 'alpha': 0.0001, 'activation': 'relu'}\n",
      "0.623 (+/-0.012) for {'solver': 'adam', 'learning_rate': 'constant', 'hidden_layer_sizes': (20,), 'batch_size': 50, 'alpha': 0.0001, 'activation': 'logistic'}\n",
      "0.203 (+/-0.000) for {'solver': 'sgd', 'learning_rate': 'adaptive', 'hidden_layer_sizes': (10, 30, 10), 'batch_size': 10, 'alpha': 0.05, 'activation': 'logistic'}\n",
      "0.201 (+/-0.002) for {'solver': 'adam', 'learning_rate': 'adaptive', 'hidden_layer_sizes': (10, 30, 10, 10), 'batch_size': 50, 'alpha': 0.05, 'activation': 'logistic'}\n"
     ]
    }
   ],
   "source": [
    "means = clf.cv_results_['mean_test_score']\n",
    "stds = clf.cv_results_['std_test_score']\n",
    "for mean, std, params in zip(means, stds, clf.cv_results_['params']):\n",
    "    print(\"%0.3f (+/-%0.03f) for %r\" % (mean, std * 2, params))"
   ]
  },
  {
   "cell_type": "code",
   "execution_count": 10,
   "metadata": {},
   "outputs": [
    {
     "name": "stdout",
     "output_type": "stream",
     "text": [
      "Results on the test set:\n",
      "              precision    recall  f1-score   support\n",
      "\n",
      "         0.0       0.66      0.66      0.66      1753\n",
      "         1.0       0.50      0.48      0.49      1707\n",
      "         2.0       0.54      0.67      0.60      1706\n",
      "         3.0       0.65      0.65      0.65      1732\n",
      "         4.0       0.83      0.68      0.75      1668\n",
      "\n",
      "    accuracy                           0.62      8566\n",
      "   macro avg       0.64      0.62      0.63      8566\n",
      "weighted avg       0.64      0.62      0.63      8566\n",
      "\n"
     ]
    }
   ],
   "source": [
    "y_teste = np.ravel(y_test)\n",
    "y_true, y_pred = y_teste , clf.predict(X_testScaled)\n",
    "from sklearn.metrics import classification_report\n",
    "print('Results on the test set:')\n",
    "print(classification_report(y_true, y_pred))"
   ]
  }
 ],
 "metadata": {
  "kernelspec": {
   "display_name": "Python 3",
   "language": "python",
   "name": "python3"
  },
  "language_info": {
   "codemirror_mode": {
    "name": "ipython",
    "version": 3
   },
   "file_extension": ".py",
   "mimetype": "text/x-python",
   "name": "python",
   "nbconvert_exporter": "python",
   "pygments_lexer": "ipython3",
   "version": "3.6.7"
  }
 },
 "nbformat": 4,
 "nbformat_minor": 4
}

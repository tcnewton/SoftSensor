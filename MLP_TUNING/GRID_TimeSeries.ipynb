{
 "cells": [
  {
   "cell_type": "code",
   "execution_count": 1,
   "metadata": {},
   "outputs": [],
   "source": [
    "import pandas as pd\n",
    "import numpy as np\n",
    "import seaborn as sns\n",
    "import matplotlib.pyplot as plt"
   ]
  },
  {
   "cell_type": "code",
   "execution_count": 2,
   "metadata": {},
   "outputs": [
    {
     "name": "stdout",
     "output_type": "stream",
     "text": [
      "shapes: train = (17389, 12), y_train = (17389, 1), test = (8566, 12), y_teste = (8566, 1)\n"
     ]
    }
   ],
   "source": [
    "main_path = '../overfitting/setTraining/select_noOhe/'\n",
    "train = np.load(main_path+'train.npy')\n",
    "test = np.load(main_path+'test.npy')\n",
    "y_train = np.load(main_path+'y_train.npy')\n",
    "y_test = np.load(main_path+'y_test.npy')\n",
    "print('shapes: train = {}, y_train = {}, test = {}, y_teste = {}'.format(train.shape,y_train.shape,test.shape,y_test.shape))"
   ]
  },
  {
   "cell_type": "code",
   "execution_count": null,
   "metadata": {},
   "outputs": [],
   "source": [
    "# standardscaler x data\n",
    "from sklearn.preprocessing import StandardScaler\n",
    "sc_x = StandardScaler()\n",
    "X_trainScaled = sc_x.fit_transform(train)\n",
    "X_testScaled = sc_x.fit_transform(test)"
   ]
  }
 ],
 "metadata": {
  "interpreter": {
   "hash": "2f65d02c5f586861cbd36ef4476e7e374c96979adaa333d0e44134f94f922d81"
  },
  "kernelspec": {
   "display_name": "Python 3.9.7 64-bit ('softsensor': conda)",
   "language": "python",
   "name": "python3"
  },
  "language_info": {
   "codemirror_mode": {
    "name": "ipython",
    "version": 3
   },
   "file_extension": ".py",
   "mimetype": "text/x-python",
   "name": "python",
   "nbconvert_exporter": "python",
   "pygments_lexer": "ipython3",
   "version": "3.9.7"
  },
  "orig_nbformat": 4
 },
 "nbformat": 4,
 "nbformat_minor": 2
}

{
 "cells": [
  {
   "cell_type": "code",
   "execution_count": 1,
   "metadata": {},
   "outputs": [],
   "source": [
    "import pandas as pd\n",
    "import xlrd\n",
    "import numpy as np\n",
    "import seaborn as sns\n",
    "import matplotlib.pyplot as plt\n",
    "from sklearn.model_selection import train_test_split"
   ]
  },
  {
   "cell_type": "markdown",
   "metadata": {},
   "source": [
    "## DEFINING EDGE TRIM FOR TRANSITIONAL \n",
    "\n"
   ]
  },
  {
   "cell_type": "code",
   "execution_count": 2,
   "metadata": {},
   "outputs": [],
   "source": [
    "path_to_xls = \"F:/Talles/Doutorado/database/1043-RP/FDD Data/Refrigerant leak/rl40.xls\"\n",
    "sheet = \"Complete Data Set\"\n",
    "leaking_40 = pd.read_excel(path_to_xls,sheet)\n",
    "path_to_xls = \"F:/Talles/Doutorado/database/1043-RP/FDD Data/Benchmark Tests/normal r.xls\"\n",
    "sheet = \"Complete Data Set\"\n",
    "Normal_R = pd.read_excel(path_to_xls,sheet)\n",
    "# reseting index"
   ]
  },
  {
   "cell_type": "code",
   "execution_count": 3,
   "metadata": {},
   "outputs": [
    {
     "name": "stdout",
     "output_type": "stream",
     "text": [
      "(5191, 67) (5191, 67)\n"
     ]
    }
   ],
   "source": [
    "# adding column with constant value\n",
    "# 0 for normal refrigereant, 1 for leaking\n",
    "Normal_R['y'] = pd.Series([0 for x in range(len(Normal_R.index))])\n",
    "leaking_40['y'] = pd.Series([1 for x in range(len(leaking_40.index))])\n",
    "print(Normal_R.shape,leaking_40.shape)"
   ]
  },
  {
   "cell_type": "code",
   "execution_count": 4,
   "metadata": {},
   "outputs": [
    {
     "name": "stdout",
     "output_type": "stream",
     "text": [
      "(4691, 67) (4691, 67)\n"
     ]
    }
   ],
   "source": [
    "board_edge_trim = 500\n",
    "Normal_R = Normal_R[board_edge_trim:]\n",
    "leaking_40 = leaking_40[board_edge_trim:]\n",
    "print(Normal_R.shape,leaking_40.shape)"
   ]
  },
  {
   "cell_type": "code",
   "execution_count": null,
   "metadata": {},
   "outputs": [],
   "source": [
    "test_size = 0.33"
   ]
  }
 ],
 "metadata": {
  "kernelspec": {
   "display_name": "Python 3",
   "language": "python",
   "name": "python3"
  },
  "language_info": {
   "codemirror_mode": {
    "name": "ipython",
    "version": 3
   },
   "file_extension": ".py",
   "mimetype": "text/x-python",
   "name": "python",
   "nbconvert_exporter": "python",
   "pygments_lexer": "ipython3",
   "version": "3.6.7"
  }
 },
 "nbformat": 4,
 "nbformat_minor": 4
}

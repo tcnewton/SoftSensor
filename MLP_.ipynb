{
 "cells": [
  {
   "cell_type": "code",
   "execution_count": 1,
   "metadata": {},
   "outputs": [],
   "source": [
    "import pandas as pd\n",
    "import xlrd\n",
    "import numpy as np\n",
    "import seaborn as sns\n",
    "import matplotlib.pyplot as plt\n",
    "from sklearn.neural_network import MLPClassifier\n",
    "from sklearn.preprocessing import StandardScaler\n",
    "from sklearn.model_selection import train_test_split"
   ]
  },
  {
   "cell_type": "code",
   "execution_count": 2,
   "metadata": {},
   "outputs": [],
   "source": [
    "#return outliers > mean+3sigma or < mean-3sigma\n",
    "def outlier_3sigma(pd_column):\n",
    "    mean_vals = pd_column.mean()\n",
    "    std_vals = pd_column.std()\n",
    "    min_value = mean_vals-3*std_vals\n",
    "    max_value = mean_vals+3*std_vals\n",
    "    outliers = np.nonzero((pd_column.values>max_value)|(pd_column.values<min_value))\n",
    "    return outliers"
   ]
  },
  {
   "cell_type": "code",
   "execution_count": 3,
   "metadata": {},
   "outputs": [],
   "source": [
    "def run_columns(pd_column,idx2):\n",
    "    for col_header in pd_column.columns:\n",
    "        idx1 = outlier_3sigma(pd_column[col_header])\n",
    "        idx2 = np.union1d(idx1,idx2)\n",
    "        idx2 = np.unique(idx2)\n",
    "    return idx2"
   ]
  },
  {
   "cell_type": "markdown",
   "metadata": {},
   "source": [
    "## DEFINING VARIABLES \n",
    "\n",
    "**dfNormal_without_outlier** --- Variable without outlier with full charge of refrigerant -- y =0\n",
    "\n",
    "**df_without_outlier** --- Variable without outlier with 40% refrigerant leaking --- y = 1\n",
    "\n",
    "Joining dataset \"x\""
   ]
  },
  {
   "cell_type": "code",
   "execution_count": 4,
   "metadata": {},
   "outputs": [],
   "source": [
    "path_to_xls = \"F:/Talles/Doutorado/database/1043-RP/FDD Data/Refrigerant leak/rl40.xls\"\n",
    "sheet = \"Complete Data Set\"\n",
    "leaking_40 = pd.read_excel(path_to_xls,sheet)\n",
    "idx2 = np.array([])\n",
    "idx2 = run_columns(leaking_40,idx2)\n",
    "df_without_outlier= leaking_40.drop(idx2)\n",
    "path_to_xls = \"F:/Talles/Doutorado/database/1043-RP/FDD Data/Benchmark Tests/normal r.xls\"\n",
    "sheet = \"Complete Data Set\"\n",
    "Normal_R = pd.read_excel(path_to_xls,sheet)\n",
    "idx2 = np.array([])\n",
    "idx2 = run_columns(Normal_R,idx2)\n",
    "dfNormal_without_outlier = Normal_R.drop(idx2)\n",
    "# reseting index\n",
    "df_without_outlier = df_without_outlier.reset_index(drop=True)\n",
    "dfNormal_without_outlier = dfNormal_without_outlier.reset_index(drop=True)"
   ]
  },
  {
   "cell_type": "code",
   "execution_count": 5,
   "metadata": {},
   "outputs": [],
   "source": [
    "# adding column with constant value\n",
    "# 0 for no leak, 1 for leaking\n",
    "dfNormal_without_outlier['y'] = pd.Series([0 for x in range(len(dfNormal_without_outlier.index))])\n",
    "df_without_outlier['y'] = pd.Series([1 for x in range(len(df_without_outlier.index))])\n",
    "# concatenating dataframes\n",
    "data = dfNormal_without_outlier.append(df_without_outlier, ignore_index=True, sort=False)"
   ]
  },
  {
   "cell_type": "code",
   "execution_count": 6,
   "metadata": {},
   "outputs": [
    {
     "name": "stdout",
     "output_type": "stream",
     "text": [
      "(9318, 66) (9318,)\n"
     ]
    }
   ],
   "source": [
    "data = np.asarray(data)\n",
    "x,y = (data[:,:-1],data[:,-1])\n",
    "print(x.shape,y.shape)"
   ]
  },
  {
   "cell_type": "code",
   "execution_count": 7,
   "metadata": {},
   "outputs": [
    {
     "name": "stdout",
     "output_type": "stream",
     "text": [
      "(6243, 66) (3075, 66) (6243,) (3075,)\n"
     ]
    }
   ],
   "source": [
    "# split into train test sets\n",
    "X_train, X_test, y_train, y_test = train_test_split(x, y, test_size=0.33, random_state=1)\n",
    "print(X_train.shape, X_test.shape, y_train.shape, y_test.shape)"
   ]
  },
  {
   "cell_type": "code",
   "execution_count": 8,
   "metadata": {},
   "outputs": [],
   "source": [
    "# standardscaler x data\n",
    "sc_x = StandardScaler()\n",
    "X_trainScaled = sc_x.fit_transform(X_train)\n",
    "X_testScaled = sc_x.fit_transform(X_test)"
   ]
  },
  {
   "cell_type": "code",
   "execution_count": 9,
   "metadata": {},
   "outputs": [
    {
     "name": "stdout",
     "output_type": "stream",
     "text": [
      "0.999349593495935\n"
     ]
    }
   ],
   "source": [
    "clf = MLPClassifier(hidden_layer_sizes=(256,128,64,32),activation=\"relu\",random_state=1).fit(X_trainScaled, y_train)\n",
    "y_pred=clf.predict(X_testScaled)\n",
    "print(clf.score(X_testScaled, y_test))"
   ]
  }
 ],
 "metadata": {
  "kernelspec": {
   "display_name": "Python 3",
   "language": "python",
   "name": "python3"
  },
  "language_info": {
   "codemirror_mode": {
    "name": "ipython",
    "version": 3
   },
   "file_extension": ".py",
   "mimetype": "text/x-python",
   "name": "python",
   "nbconvert_exporter": "python",
   "pygments_lexer": "ipython3",
   "version": "3.6.7"
  }
 },
 "nbformat": 4,
 "nbformat_minor": 4
}

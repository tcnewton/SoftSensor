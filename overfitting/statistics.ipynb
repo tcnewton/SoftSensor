{
 "cells": [
  {
   "cell_type": "code",
   "execution_count": 1,
   "metadata": {},
   "outputs": [],
   "source": [
    "import pandas as pd\n",
    "import xlrd\n",
    "import numpy as np\n",
    "import seaborn as sns\n",
    "import matplotlib.pyplot as plt"
   ]
  },
  {
   "cell_type": "code",
   "execution_count": 3,
   "metadata": {},
   "outputs": [
    {
     "name": "stdout",
     "output_type": "stream",
     "text": [
      "shapes: train = (17389, 66), y_train = (17389, 5), test = (8566, 66), y_teste = (8566, 5)\n"
     ]
    }
   ],
   "source": [
    "main_path = './setTraining/'\n",
    "train = np.load(main_path+'train.npy')\n",
    "test = np.load(main_path+'test.npy')\n",
    "y_train = np.load(main_path+'y_train.npy')\n",
    "y_test = np.load(main_path+'y_test.npy')\n",
    "print('shapes: train = {}, y_train = {}, test = {}, y_teste = {}'.format(train.shape,y_train.shape,test.shape,y_test.shape))"
   ]
  },
  {
   "cell_type": "code",
   "execution_count": 10,
   "metadata": {},
   "outputs": [
    {
     "name": "stdout",
     "output_type": "stream",
     "text": [
      "              0          1          2          3          4          5          6          7          8          9          10\n",
      "count  17389.000  17389.000  17389.000  17389.000  17389.000  17389.000  17389.000  17389.000  17389.000  17389.000  1.739e+04\n",
      "mean   26063.416     44.457     52.512     52.626     45.986     45.955     75.071     74.923     81.307     81.111  7.952e+01\n",
      "std    14974.853      4.169      5.360      5.421      4.758      4.815      7.529      7.665      8.215      8.266  7.901e+00\n",
      "min        3.647     39.000     43.070     28.000     38.880     38.700     57.040    -99.400     57.360     53.600  2.170e-14\n",
      "25%    13110.000     40.000     48.440     48.500     41.420     41.200     67.720     67.600     74.110     73.900  7.269e+01\n",
      "50%    26050.000     44.000     52.200     52.400     45.480     45.400     75.750     75.700     81.350     81.200  7.903e+01\n",
      "75%    39070.000     49.000     56.550     56.800     49.980     50.100     81.150     81.000     88.640     88.500  8.710e+01\n",
      "max    51910.000     50.000     69.980     79.000     69.960     70.000     89.010     89.800     97.120     97.500  9.418e+01\n"
     ]
    }
   ],
   "source": [
    "pd.set_option('display.width',130)\n",
    "pd.set_option('precision',3)\n",
    "pandData = pd.DataFrame(train[:,:11])\n",
    "description = pandData.describe()\n",
    "print(description)"
   ]
  },
  {
   "cell_type": "code",
   "execution_count": 13,
   "metadata": {},
   "outputs": [
    {
     "name": "stdout",
     "output_type": "stream",
     "text": [
      "shapes: train = (17389, 12), y_train = (17389, 5), test = (8566, 12), y_teste = (8566, 5)\n"
     ]
    }
   ],
   "source": [
    "main_path = './setTraining/selectedVariables/'\n",
    "train = np.load(main_path+'train.npy')\n",
    "test = np.load(main_path+'test.npy')\n",
    "y_train = np.load(main_path+'y_train.npy')\n",
    "y_test = np.load(main_path+'y_test.npy')\n",
    "print('shapes: train = {}, y_train = {}, test = {}, y_teste = {}'.format(train.shape,y_train.shape,test.shape,y_test.shape))"
   ]
  },
  {
   "cell_type": "code",
   "execution_count": 15,
   "metadata": {},
   "outputs": [
    {
     "name": "stdout",
     "output_type": "stream",
     "text": [
      "            0        1        2        3        4        5        6        7        8        9        10       11\n",
      "count  17389.0  17389.0  17389.0  17389.0  17389.0  17389.0  17389.0  17389.0  17389.0  1.7e+04  17389.0  17389.0\n",
      "mean      52.5     46.0     75.1     81.3     35.1     94.5     44.4    119.0     61.8  2.4e+05    109.9    133.0\n",
      "std        5.4      4.8      7.5      8.2      4.2     15.2      5.7     11.9     19.3  3.2e+07      3.4     10.2\n",
      "min       43.1     38.9     57.0     57.4     29.8     51.4     37.1     72.0      0.0  1.7e-45     86.8     46.7\n",
      "25%       48.4     41.4     67.7     74.1     32.5     81.9     39.9    110.3     49.0  4.3e+01    108.4    131.0\n",
      "50%       52.2     45.5     75.8     81.3     35.0     94.8     44.1    117.6     58.0  5.1e+01    109.8    134.0\n",
      "75%       56.5     50.0     81.2     88.6     36.7    106.7     47.8    125.5     74.0  6.5e+01    111.6    137.0\n",
      "max       70.0     70.0     89.0     97.1     71.4    128.5     85.4    155.7    103.0  4.3e+09    116.9    153.1\n"
     ]
    }
   ],
   "source": [
    "pd.set_option('display.width',130)\n",
    "pd.set_option('precision',1)\n",
    "pandData = pd.DataFrame(train)\n",
    "description = pandData.describe()\n",
    "print(description)"
   ]
  },
  {
   "cell_type": "code",
   "execution_count": 16,
   "metadata": {},
   "outputs": [
    {
     "name": "stdout",
     "output_type": "stream",
     "text": [
      "         0        1        2        3        4        5        6        7        8        9        10       11\n",
      "0   1.0e+00  8.6e-01  2.1e-01  3.2e-01  5.9e-01  3.9e-01  6.6e-01 -1.1e-01  4.1e-01 -6.2e-03  9.3e-02  7.5e-02\n",
      "1   8.6e-01  1.0e+00  1.7e-01  1.3e-01  8.6e-01  1.5e-01  9.2e-01  1.5e-01 -5.8e-02 -1.1e-03  5.5e-02 -1.4e-01\n",
      "2   2.1e-01  1.7e-01  1.0e+00  9.6e-01  1.1e-01  9.0e-01  6.3e-02  6.2e-01  4.5e-01  7.2e-04  3.9e-01  5.0e-01\n",
      "3   3.2e-01  1.3e-01  9.6e-01  1.0e+00 -8.1e-03  9.8e-01 -4.3e-02  4.3e-01  6.8e-01 -2.3e-03  3.9e-01  5.8e-01\n",
      "4   5.9e-01  8.6e-01  1.1e-01 -8.1e-03  1.0e+00 -2.9e-02  9.7e-01  1.2e-01 -3.5e-01  1.7e-03 -1.6e-01 -4.8e-01\n",
      "5   3.9e-01  1.5e-01  9.0e-01  9.8e-01 -2.9e-02  1.0e+00 -5.0e-02  3.5e-01  7.7e-01 -4.3e-03  3.7e-01  5.9e-01\n",
      "6   6.6e-01  9.2e-01  6.3e-02 -4.3e-02  9.7e-01 -5.0e-02  1.0e+00  1.3e-01 -3.3e-01  9.0e-04 -8.3e-02 -4.4e-01\n",
      "7  -1.1e-01  1.5e-01  6.2e-01  4.3e-01  1.2e-01  3.5e-01  1.3e-01  1.0e+00 -1.5e-01  1.1e-02  5.5e-01  3.6e-01\n",
      "8   4.1e-01 -5.8e-02  4.5e-01  6.8e-01 -3.5e-01  7.7e-01 -3.3e-01 -1.5e-01  1.0e+00 -7.4e-03  2.1e-01  5.7e-01\n",
      "9  -6.2e-03 -1.1e-03  7.2e-04 -2.3e-03  1.7e-03 -4.3e-03  9.0e-04  1.1e-02 -7.4e-03  1.0e+00  5.1e-03  3.7e-04\n",
      "10  9.3e-02  5.5e-02  3.9e-01  3.9e-01 -1.6e-01  3.7e-01 -8.3e-02  5.5e-01  2.1e-01  5.1e-03  1.0e+00  4.0e-01\n",
      "11  7.5e-02 -1.4e-01  5.0e-01  5.8e-01 -4.8e-01  5.9e-01 -4.4e-01  3.6e-01  5.7e-01  3.7e-04  4.0e-01  1.0e+00\n"
     ]
    }
   ],
   "source": [
    "correlations = pandData.corr(method='pearson')\n",
    "print(correlations)"
   ]
  },
  {
   "cell_type": "code",
   "execution_count": 18,
   "metadata": {},
   "outputs": [
    {
     "name": "stdout",
     "output_type": "stream",
     "text": [
      "0     2.5e-01\n",
      "1     8.9e-01\n",
      "2     9.4e-02\n",
      "3    -7.3e-02\n",
      "4     3.9e+00\n",
      "5     2.4e-02\n",
      "6     2.9e+00\n",
      "7     1.7e-01\n",
      "8     3.0e-02\n",
      "9     1.3e+02\n",
      "10   -2.3e+00\n",
      "11   -6.2e+00\n",
      "dtype: float64\n"
     ]
    }
   ],
   "source": [
    "skew = pandData.skew()\n",
    "print(skew)"
   ]
  }
 ],
 "metadata": {
  "kernelspec": {
   "display_name": "Python 3",
   "language": "python",
   "name": "python3"
  },
  "language_info": {
   "codemirror_mode": {
    "name": "ipython",
    "version": 3
   },
   "file_extension": ".py",
   "mimetype": "text/x-python",
   "name": "python",
   "nbconvert_exporter": "python",
   "pygments_lexer": "ipython3",
   "version": "3.6.7"
  }
 },
 "nbformat": 4,
 "nbformat_minor": 4
}

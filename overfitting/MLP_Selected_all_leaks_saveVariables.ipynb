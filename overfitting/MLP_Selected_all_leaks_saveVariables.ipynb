{
 "cells": [
  {
   "cell_type": "markdown",
   "metadata": {},
   "source": [
    "# Todas variaveis --- simulacao de todos os vazamentos"
   ]
  },
  {
   "cell_type": "code",
   "execution_count": 1,
   "metadata": {},
   "outputs": [],
   "source": [
    "import pandas as pd\n",
    "import xlrd\n",
    "import numpy as np\n",
    "import seaborn as sns\n",
    "import matplotlib.pyplot as plt"
   ]
  },
  {
   "cell_type": "code",
   "execution_count": 2,
   "metadata": {},
   "outputs": [
    {
     "name": "stdout",
     "output_type": "stream",
     "text": [
      "12\n"
     ]
    }
   ],
   "source": [
    "variables = [\"TEI\",\"TEO\",\"TCI\",\"TCO\",\"PRE\",\"PRC\",\"T_suc\",\"TR_dis\",\"Amps\",\"kW\",\"TO_feed\",\"PO_feed\"]\n",
    "print(len(variables))"
   ]
  },
  {
   "cell_type": "code",
   "execution_count": 3,
   "metadata": {},
   "outputs": [
    {
     "name": "stdout",
     "output_type": "stream",
     "text": [
      "shapes -- leaking10 = (5191, 66), leaking 20 = (5191, 66), leaking30 = (5191, 66), leaking40 = (5191, 66), normal = (5191, 66)\n"
     ]
    }
   ],
   "source": [
    "sheet = \"Complete Data Set\"\n",
    "path_to_xls = \"F:/Talles/Doutorado/database/1043-RP/FDD Data/Refrigerant leak/rl10.xls\"\n",
    "leaking_10 = pd.read_excel(path_to_xls,sheet)\n",
    "path_to_xls = \"F:/Talles/Doutorado/database/1043-RP/FDD Data/Refrigerant leak/rl20.xls\"\n",
    "leaking_20 = pd.read_excel(path_to_xls,sheet)\n",
    "path_to_xls = \"F:/Talles/Doutorado/database/1043-RP/FDD Data/Refrigerant leak/rl30.xls\"\n",
    "leaking_30 = pd.read_excel(path_to_xls,sheet)\n",
    "path_to_xls = \"F:/Talles/Doutorado/database/1043-RP/FDD Data/Refrigerant leak/rl40.xls\"\n",
    "leaking_40 = pd.read_excel(path_to_xls,sheet)\n",
    "path_to_xls = \"F:/Talles/Doutorado/database/1043-RP/FDD Data/Benchmark Tests/normal r.xls\"\n",
    "normal = pd.read_excel(path_to_xls,sheet)\n",
    "print(\"shapes -- leaking10 = {}, leaking 20 = {}, leaking30 = {}, leaking40 = {}, normal = {}\".format(leaking_10.shape,\n",
    "                                                                                                      leaking_20.shape,\n",
    "                                                                                                      leaking_30.shape,\n",
    "                                                                                                      leaking_40.shape,\n",
    "                                                                                                      normal.shape))"
   ]
  },
  {
   "cell_type": "code",
   "execution_count": 4,
   "metadata": {},
   "outputs": [],
   "source": [
    "from sklearn import decomposition\n",
    "from sklearn.preprocessing import StandardScaler"
   ]
  },
  {
   "cell_type": "code",
   "execution_count": 5,
   "metadata": {},
   "outputs": [
    {
     "name": "stdout",
     "output_type": "stream",
     "text": [
      "shapes -- leaking10 = (5191, 67), leaking 20 = (5191, 67), leaking30 = (5191, 67), leaking40 = (5191, 67), normal = (5191, 67)\n"
     ]
    }
   ],
   "source": [
    "# adding column with constant value\n",
    "# 0 for no leak, 1 for leaking\n",
    "normal['y'] = pd.Series([0 for x in range(len(normal.index))])\n",
    "leaking_10['y'] = pd.Series([1 for x in range(len(leaking_10.index))])\n",
    "leaking_20['y'] = pd.Series([2 for x in range(len(leaking_20.index))])\n",
    "leaking_30['y'] = pd.Series([3 for x in range(len(leaking_30.index))])\n",
    "leaking_40['y'] = pd.Series([4 for x in range(len(leaking_40.index))])\n",
    "print(\"shapes -- leaking10 = {}, leaking 20 = {}, leaking30 = {}, leaking40 = {}, normal = {}\".format(leaking_10.shape,\n",
    "                                                                                                      leaking_20.shape,\n",
    "                                                                                                      leaking_30.shape,\n",
    "                                                                                                      leaking_40.shape,\n",
    "                                                                                                      normal.shape))"
   ]
  },
  {
   "cell_type": "code",
   "execution_count": 6,
   "metadata": {},
   "outputs": [
    {
     "name": "stdout",
     "output_type": "stream",
     "text": [
      "(25955, 67)\n",
      "(25955, 66) (25955, 1)\n"
     ]
    }
   ],
   "source": [
    "# concatenating dataframes\n",
    "data = normal.append(leaking_10, ignore_index=True, sort=False)\n",
    "data = data.append(leaking_20, ignore_index=True, sort=False)\n",
    "data = data.append(leaking_30, ignore_index=True, sort=False)\n",
    "data = data.append(leaking_40, ignore_index=True, sort=False)\n",
    "print(data.shape)\n",
    "\n",
    "data = np.asarray(data)\n",
    "x,y = (data[:,:-1],data[:,-1])\n",
    "y = np.expand_dims(y, axis=1)\n",
    "print(x.shape,y.shape)"
   ]
  },
  {
   "cell_type": "code",
   "execution_count": 7,
   "metadata": {},
   "outputs": [
    {
     "data": {
      "text/plain": [
       "(25955, 5)"
      ]
     },
     "execution_count": 7,
     "metadata": {},
     "output_type": "execute_result"
    }
   ],
   "source": [
    "# one hot enconder\n",
    "from sklearn.preprocessing import OneHotEncoder\n",
    "ohe = OneHotEncoder()\n",
    "y = ohe.fit_transform(y).toarray()\n",
    "\n",
    "y.shape"
   ]
  },
  {
   "cell_type": "code",
   "execution_count": 8,
   "metadata": {},
   "outputs": [],
   "source": [
    "from sklearn.neural_network import MLPClassifier\n",
    "from sklearn.model_selection import train_test_split"
   ]
  },
  {
   "cell_type": "code",
   "execution_count": 9,
   "metadata": {},
   "outputs": [
    {
     "name": "stdout",
     "output_type": "stream",
     "text": [
      "(17389, 66) (8566, 66) (17389, 5) (8566, 5)\n"
     ]
    }
   ],
   "source": [
    "# split into train test sets\n",
    "X_train, X_test, y_train, y_test = train_test_split(x, y, test_size=0.33, random_state=1)\n",
    "print(X_train.shape, X_test.shape, y_train.shape, y_test.shape)"
   ]
  },
  {
   "cell_type": "code",
   "execution_count": 10,
   "metadata": {},
   "outputs": [],
   "source": [
    "# standardscaler x data\n",
    "sc_x = StandardScaler()\n",
    "X_trainScaled = sc_x.fit_transform(X_train)\n",
    "X_testScaled = sc_x.fit_transform(X_test)"
   ]
  },
  {
   "cell_type": "code",
   "execution_count": 11,
   "metadata": {},
   "outputs": [],
   "source": [
    "main_path = './setTraining/'\n",
    "np.save(main_path +'train.npy',X_train)\n",
    "np.save(main_path +'test.npy',X_test)\n",
    "np.save(main_path +'y_train.npy',y_train)\n",
    "np.save(main_path + 'y_test.npy',y_test)"
   ]
  },
  {
   "cell_type": "code",
   "execution_count": 12,
   "metadata": {},
   "outputs": [
    {
     "data": {
      "text/plain": [
       "'clf = MLPClassifier(hidden_layer_sizes=(256,128,64,32),activation=\"relu\",random_state=1).fit(X_trainScaled, y_train)\\ny_pred=clf.predict(X_testScaled)\\nprint(clf.score(X_testScaled, y_test))'"
      ]
     },
     "execution_count": 12,
     "metadata": {},
     "output_type": "execute_result"
    }
   ],
   "source": [
    "'''clf = MLPClassifier(hidden_layer_sizes=(256,128,64,32),activation=\"relu\",random_state=1).fit(X_trainScaled, y_train)\n",
    "y_pred=clf.predict(X_testScaled)\n",
    "print(clf.score(X_testScaled, y_test))'''"
   ]
  }
 ],
 "metadata": {
  "kernelspec": {
   "display_name": "Python 3",
   "language": "python",
   "name": "python3"
  },
  "language_info": {
   "codemirror_mode": {
    "name": "ipython",
    "version": 3
   },
   "file_extension": ".py",
   "mimetype": "text/x-python",
   "name": "python",
   "nbconvert_exporter": "python",
   "pygments_lexer": "ipython3",
   "version": "3.6.7"
  }
 },
 "nbformat": 4,
 "nbformat_minor": 4
}

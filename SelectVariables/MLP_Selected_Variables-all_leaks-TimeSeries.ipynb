{
 "cells": [
  {
   "cell_type": "markdown",
   "metadata": {},
   "source": [
    "# apenas 12 variaveis - todos vazamentos\n",
    "## timesteps = 2"
   ]
  },
  {
   "cell_type": "code",
   "execution_count": 1,
   "metadata": {},
   "outputs": [],
   "source": [
    "import pandas as pd\n",
    "import xlrd\n",
    "import numpy as np\n",
    "import seaborn as sns\n",
    "import matplotlib.pyplot as plt\n",
    "from IPython.display import display"
   ]
  },
  {
   "cell_type": "markdown",
   "metadata": {},
   "source": [
    "### Function create time series"
   ]
  },
  {
   "cell_type": "code",
   "execution_count": 2,
   "metadata": {},
   "outputs": [],
   "source": [
    "#n_in: time steps\n",
    "def series_to_supervised(data, n_in, n_out=1):\n",
    "    df = pd.DataFrame(data)\n",
    "    cols = list()\n",
    "    # input sequence (t-n, ... t-1)\n",
    "    for i in range(n_in, 0, -1):\n",
    "        cols.append(df.shift(i))\n",
    "        # forecast sequence (t, t+1, ... t+n)\n",
    "    for i in range(0, n_out):\n",
    "        cols.append(df.shift(-i))\n",
    "        # put it all together\n",
    "        agg = pd.concat(cols, axis=1)\n",
    "        # drop rows with NaN values\n",
    "        agg.dropna(inplace=True)\n",
    "    return agg.values"
   ]
  },
  {
   "cell_type": "code",
   "execution_count": 3,
   "metadata": {},
   "outputs": [
    {
     "data": {
      "text/html": [
       "<div>\n",
       "<style scoped>\n",
       "    .dataframe tbody tr th:only-of-type {\n",
       "        vertical-align: middle;\n",
       "    }\n",
       "\n",
       "    .dataframe tbody tr th {\n",
       "        vertical-align: top;\n",
       "    }\n",
       "\n",
       "    .dataframe thead th {\n",
       "        text-align: right;\n",
       "    }\n",
       "</style>\n",
       "<table border=\"1\" class=\"dataframe\">\n",
       "  <thead>\n",
       "    <tr style=\"text-align: right;\">\n",
       "      <th></th>\n",
       "      <th>Col1</th>\n",
       "      <th>Col2</th>\n",
       "      <th>Col3</th>\n",
       "      <th>Col4</th>\n",
       "    </tr>\n",
       "  </thead>\n",
       "  <tbody>\n",
       "    <tr>\n",
       "      <th>2020-01-01</th>\n",
       "      <td>10</td>\n",
       "      <td>13</td>\n",
       "      <td>17</td>\n",
       "      <td>1</td>\n",
       "    </tr>\n",
       "    <tr>\n",
       "      <th>2020-01-02</th>\n",
       "      <td>20</td>\n",
       "      <td>23</td>\n",
       "      <td>27</td>\n",
       "      <td>2</td>\n",
       "    </tr>\n",
       "    <tr>\n",
       "      <th>2020-01-03</th>\n",
       "      <td>15</td>\n",
       "      <td>18</td>\n",
       "      <td>22</td>\n",
       "      <td>3</td>\n",
       "    </tr>\n",
       "    <tr>\n",
       "      <th>2020-01-04</th>\n",
       "      <td>30</td>\n",
       "      <td>33</td>\n",
       "      <td>37</td>\n",
       "      <td>4</td>\n",
       "    </tr>\n",
       "    <tr>\n",
       "      <th>2020-01-05</th>\n",
       "      <td>45</td>\n",
       "      <td>48</td>\n",
       "      <td>52</td>\n",
       "      <td>5</td>\n",
       "    </tr>\n",
       "  </tbody>\n",
       "</table>\n",
       "</div>"
      ],
      "text/plain": [
       "            Col1  Col2  Col3  Col4\n",
       "2020-01-01    10    13    17     1\n",
       "2020-01-02    20    23    27     2\n",
       "2020-01-03    15    18    22     3\n",
       "2020-01-04    30    33    37     4\n",
       "2020-01-05    45    48    52     5"
      ]
     },
     "metadata": {},
     "output_type": "display_data"
    },
    {
     "data": {
      "text/plain": [
       "array([[10., 13., 17.,  1., 20., 23., 27.,  2., 15., 18., 22.,  3.],\n",
       "       [20., 23., 27.,  2., 15., 18., 22.,  3., 30., 33., 37.,  4.],\n",
       "       [15., 18., 22.,  3., 30., 33., 37.,  4., 45., 48., 52.,  5.]])"
      ]
     },
     "execution_count": 3,
     "metadata": {},
     "output_type": "execute_result"
    }
   ],
   "source": [
    "# testing function\n",
    "df = pd.DataFrame({\"Col1\": [10, 20, 15, 30, 45],\n",
    "                   \"Col2\": [13, 23, 18, 33, 48],\n",
    "                   \"Col3\": [17, 27, 22, 37, 52],\n",
    "                  \"Col4\":[1,2,3,4,5]},\n",
    "                  index=pd.date_range(\"2020-01-01\", \"2020-01-05\"))\n",
    "display(df)\n",
    "series_to_supervised(df,2)"
   ]
  },
  {
   "cell_type": "code",
   "execution_count": 4,
   "metadata": {},
   "outputs": [
    {
     "name": "stdout",
     "output_type": "stream",
     "text": [
      "12\n"
     ]
    }
   ],
   "source": [
    "variables = [\"TEI\",\"TEO\",\"TCI\",\"TCO\",\"PRE\",\"PRC\",\"T_suc\",\"TR_dis\",\"Amps\",\"kW\",\"TO_feed\",\"PO_feed\"]\n",
    "print(len(variables))"
   ]
  },
  {
   "cell_type": "code",
   "execution_count": 5,
   "metadata": {},
   "outputs": [
    {
     "name": "stdout",
     "output_type": "stream",
     "text": [
      "shapes -- leaking10 = (5191, 12), leaking 20 = (5191, 12), leaking30 = (5191, 12), leaking40 = (5191, 12), normal = (5191, 12)\n"
     ]
    }
   ],
   "source": [
    "sheet = \"Complete Data Set\"\n",
    "path_to_xls = \"F:/Talles/Doutorado/database/1043-RP/FDD Data/Refrigerant leak/rl10.xls\"\n",
    "leaking_10 = pd.read_excel(path_to_xls,sheet)\n",
    "leaking_10 = leaking_10.loc[:, variables]\n",
    "path_to_xls = \"F:/Talles/Doutorado/database/1043-RP/FDD Data/Refrigerant leak/rl20.xls\"\n",
    "leaking_20 = pd.read_excel(path_to_xls,sheet)\n",
    "leaking_20 = leaking_20.loc[:, variables]\n",
    "path_to_xls = \"F:/Talles/Doutorado/database/1043-RP/FDD Data/Refrigerant leak/rl30.xls\"\n",
    "leaking_30 = pd.read_excel(path_to_xls,sheet)\n",
    "leaking_30 = leaking_30.loc[:, variables]\n",
    "path_to_xls = \"F:/Talles/Doutorado/database/1043-RP/FDD Data/Refrigerant leak/rl40.xls\"\n",
    "leaking_40 = pd.read_excel(path_to_xls,sheet)\n",
    "leaking_40 = leaking_40.loc[:, variables]\n",
    "path_to_xls = \"F:/Talles/Doutorado/database/1043-RP/FDD Data/Benchmark Tests/normal r.xls\"\n",
    "normal = pd.read_excel(path_to_xls,sheet)\n",
    "normal = normal.loc[:, variables]\n",
    "print(\"shapes -- leaking10 = {}, leaking 20 = {}, leaking30 = {}, leaking40 = {}, normal = {}\".format(leaking_10.shape,\n",
    "                                                                                                      leaking_20.shape,\n",
    "                                                                                                      leaking_30.shape,\n",
    "                                                                                                      leaking_40.shape,\n",
    "                                                                                                      normal.shape))"
   ]
  },
  {
   "cell_type": "code",
   "execution_count": 6,
   "metadata": {},
   "outputs": [
    {
     "name": "stdout",
     "output_type": "stream",
     "text": [
      "shapes -- leaking10 = (5189, 36), leaking 20 = (5189, 36), leaking30 = (5189, 36), leaking40 = (5189, 36), normal = (5189, 36)\n"
     ]
    }
   ],
   "source": [
    "timesteps = 2\n",
    "leaking_10 = series_to_supervised(leaking_10,timesteps)\n",
    "leaking_20 = series_to_supervised(leaking_20,timesteps)\n",
    "leaking_30 = series_to_supervised(leaking_30,timesteps)\n",
    "leaking_40 = series_to_supervised(leaking_40,timesteps)\n",
    "normal = series_to_supervised(normal,timesteps)\n",
    "print(\"shapes -- leaking10 = {}, leaking 20 = {}, leaking30 = {}, leaking40 = {}, normal = {}\".format(leaking_10.shape,\n",
    "                                                                                                      leaking_20.shape,\n",
    "                                                                                                      leaking_30.shape,\n",
    "                                                                                                      leaking_40.shape,\n",
    "                                                                                                      normal.shape))"
   ]
  },
  {
   "cell_type": "code",
   "execution_count": 7,
   "metadata": {},
   "outputs": [],
   "source": [
    "from sklearn import decomposition\n",
    "from sklearn.preprocessing import StandardScaler"
   ]
  },
  {
   "cell_type": "code",
   "execution_count": 8,
   "metadata": {},
   "outputs": [
    {
     "name": "stdout",
     "output_type": "stream",
     "text": [
      "shapes -- leaking10 = (5189, 37), leaking 20 = (5189, 37), leaking30 = (5189, 37), leaking40 = (5189, 37), normal = (5189, 37)\n"
     ]
    }
   ],
   "source": [
    "normal = np.c_[normal,np.zeros(len(normal))]\n",
    "leaking_10 = np.c_[leaking_10,np.ones(len(leaking_10))]\n",
    "leaking_20 = np.c_[leaking_20,np.ones(len(leaking_20))*2]\n",
    "leaking_30 = np.c_[leaking_30,np.ones(len(leaking_30))*3]\n",
    "leaking_40 = np.c_[leaking_40,np.ones(len(leaking_40))*4]\n",
    "print(\"shapes -- leaking10 = {}, leaking 20 = {}, leaking30 = {}, leaking40 = {}, normal = {}\".format(leaking_10.shape,\n",
    "                                                                                                      leaking_20.shape,\n",
    "                                                                                                      leaking_30.shape,\n",
    "                                                                                                      leaking_40.shape,\n",
    "                                                                                                      normal.shape))"
   ]
  },
  {
   "cell_type": "markdown",
   "metadata": {},
   "source": [
    "# Prepare dataset"
   ]
  },
  {
   "cell_type": "code",
   "execution_count": 9,
   "metadata": {},
   "outputs": [
    {
     "data": {
      "text/plain": [
       "(25945, 37)"
      ]
     },
     "execution_count": 9,
     "metadata": {},
     "output_type": "execute_result"
    }
   ],
   "source": [
    "data = np.vstack((normal,leaking_10))\n",
    "data = np.vstack((data,leaking_20))\n",
    "data = np.vstack((data,leaking_30))\n",
    "data = np.vstack((data,leaking_40))\n",
    "data.shape"
   ]
  },
  {
   "cell_type": "code",
   "execution_count": 10,
   "metadata": {},
   "outputs": [
    {
     "name": "stdout",
     "output_type": "stream",
     "text": [
      "(25945, 36) (25945, 1)\n"
     ]
    }
   ],
   "source": [
    "x,y = (data[:,:-1],data[:,-1])\n",
    "y = np.expand_dims(y, axis=1)\n",
    "print(x.shape,y.shape)"
   ]
  },
  {
   "cell_type": "code",
   "execution_count": 11,
   "metadata": {},
   "outputs": [
    {
     "data": {
      "text/plain": [
       "(25945, 5)"
      ]
     },
     "execution_count": 11,
     "metadata": {},
     "output_type": "execute_result"
    }
   ],
   "source": [
    "# one hot enconder\n",
    "from sklearn.preprocessing import OneHotEncoder\n",
    "ohe = OneHotEncoder()\n",
    "y = ohe.fit_transform(y).toarray()\n",
    "y.shape"
   ]
  },
  {
   "cell_type": "code",
   "execution_count": 12,
   "metadata": {},
   "outputs": [],
   "source": [
    "from sklearn.neural_network import MLPClassifier\n",
    "from sklearn.model_selection import train_test_split"
   ]
  },
  {
   "cell_type": "code",
   "execution_count": 13,
   "metadata": {},
   "outputs": [
    {
     "name": "stdout",
     "output_type": "stream",
     "text": [
      "(17383, 36) (8562, 36) (17383, 5) (8562, 5)\n"
     ]
    }
   ],
   "source": [
    "# split into train test sets\n",
    "X_train, X_test, y_train, y_test = train_test_split(x, y, test_size=0.33, random_state=1)\n",
    "print(X_train.shape, X_test.shape, y_train.shape, y_test.shape)"
   ]
  },
  {
   "cell_type": "code",
   "execution_count": 14,
   "metadata": {},
   "outputs": [],
   "source": [
    "# standardscaler x data\n",
    "sc_x = StandardScaler()\n",
    "X_trainScaled = sc_x.fit_transform(X_train)\n",
    "X_testScaled = sc_x.fit_transform(X_test)"
   ]
  },
  {
   "cell_type": "code",
   "execution_count": 15,
   "metadata": {},
   "outputs": [
    {
     "name": "stdout",
     "output_type": "stream",
     "text": [
      "0.3937164213968699\n"
     ]
    }
   ],
   "source": [
    "clf = MLPClassifier(hidden_layer_sizes=(256,128,64,32),activation=\"relu\",random_state=1).fit(X_trainScaled, y_train)\n",
    "y_pred=clf.predict(X_testScaled)\n",
    "print(clf.score(X_testScaled, y_test))"
   ]
  }
 ],
 "metadata": {
  "kernelspec": {
   "display_name": "Python 3",
   "language": "python",
   "name": "python3"
  },
  "language_info": {
   "codemirror_mode": {
    "name": "ipython",
    "version": 3
   },
   "file_extension": ".py",
   "mimetype": "text/x-python",
   "name": "python",
   "nbconvert_exporter": "python",
   "pygments_lexer": "ipython3",
   "version": "3.6.7"
  }
 },
 "nbformat": 4,
 "nbformat_minor": 4
}

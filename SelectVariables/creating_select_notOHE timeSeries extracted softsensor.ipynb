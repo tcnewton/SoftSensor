{
 "cells": [
  {
   "cell_type": "markdown",
   "metadata": {},
   "source": [
    "# apenas 12 variaveis - todos vazamentos"
   ]
  },
  {
   "cell_type": "code",
   "execution_count": 37,
   "metadata": {},
   "outputs": [],
   "source": [
    "import pandas as pd\n",
    "import numpy as np\n",
    "import seaborn as sns\n",
    "import matplotlib.pyplot as plt\n",
    "import xlrd"
   ]
  },
  {
   "cell_type": "code",
   "execution_count": 38,
   "metadata": {},
   "outputs": [
    {
     "name": "stdout",
     "output_type": "stream",
     "text": [
      "12\n"
     ]
    }
   ],
   "source": [
    "variables = [\"TEI\",\"TEO\",\"TCI\",\"TCO\",\"PRE\",\"PRC\",\"T_suc\",\"TR_dis\",\"Amps\",\"kW\",\"TO_feed\",\"PO_feed\"]\n",
    "print(len(variables))"
   ]
  },
  {
   "cell_type": "code",
   "execution_count": 39,
   "metadata": {},
   "outputs": [
    {
     "name": "stdout",
     "output_type": "stream",
     "text": [
      "shapes -- leaking10 = (5191, 12), leaking 20 = (5191, 12), leaking30 = (5191, 12), leaking40 = (5191, 12), normal = (5191, 12)\n"
     ]
    }
   ],
   "source": [
    "sheet = \"Complete Data Set\"\n",
    "path_to_xls = \"E:/Talles/Doutorado/database/1043-RP/FDD Data/Refrigerant leak/rl10.xls\"\n",
    "leaking_10 = pd.read_excel(path_to_xls,sheet)\n",
    "leaking_10 = leaking_10.loc[:, variables]\n",
    "path_to_xls = \"E:/Talles/Doutorado/database/1043-RP/FDD Data/Refrigerant leak/rl20.xls\"\n",
    "leaking_20 = pd.read_excel(path_to_xls,sheet)\n",
    "leaking_20 = leaking_20.loc[:, variables]\n",
    "path_to_xls = \"E:/Talles/Doutorado/database/1043-RP/FDD Data/Refrigerant leak/rl30.xls\"\n",
    "leaking_30 = pd.read_excel(path_to_xls,sheet)\n",
    "leaking_30 = leaking_30.loc[:, variables]\n",
    "path_to_xls = \"E:/Talles/Doutorado/database/1043-RP/FDD Data/Refrigerant leak/rl40.xls\"\n",
    "leaking_40 = pd.read_excel(path_to_xls,sheet)\n",
    "leaking_40 = leaking_40.loc[:, variables]\n",
    "path_to_xls = \"E:/Talles/Doutorado/database/1043-RP/FDD Data/Benchmark Tests/normal r.xls\"\n",
    "normal = pd.read_excel(path_to_xls,sheet)\n",
    "normal = normal.loc[:, variables]\n",
    "print(\"shapes -- leaking10 = {}, leaking 20 = {}, leaking30 = {}, leaking40 = {}, normal = {}\".format(leaking_10.shape,\n",
    "                                                                                                      leaking_20.shape,\n",
    "                                                                                                      leaking_30.shape,\n",
    "                                                                                                      leaking_40.shape,\n",
    "                                                                                                      normal.shape))"
   ]
  },
  {
   "cell_type": "code",
   "execution_count": 40,
   "metadata": {},
   "outputs": [],
   "source": [
    "from sklearn import decomposition\n",
    "from sklearn.preprocessing import StandardScaler"
   ]
  },
  {
   "cell_type": "code",
   "execution_count": 41,
   "metadata": {},
   "outputs": [
    {
     "name": "stdout",
     "output_type": "stream",
     "text": [
      "shapes -- leaking10 = (5191, 13), leaking 20 = (5191, 13), leaking30 = (5191, 13), leaking40 = (5191, 13), normal = (5191, 13)\n"
     ]
    }
   ],
   "source": [
    "# adding column with constant value\n",
    "# 0 for no leak, 1 for leaking\n",
    "normal['y'] = pd.Series([0 for x in range(len(normal.index))])\n",
    "leaking_10['y'] = pd.Series([1 for x in range(len(leaking_10.index))])\n",
    "leaking_20['y'] = pd.Series([2 for x in range(len(leaking_20.index))])\n",
    "leaking_30['y'] = pd.Series([3 for x in range(len(leaking_30.index))])\n",
    "leaking_40['y'] = pd.Series([4 for x in range(len(leaking_40.index))])\n",
    "print(\"shapes -- leaking10 = {}, leaking 20 = {}, leaking30 = {}, leaking40 = {}, normal = {}\".format(leaking_10.shape,\n",
    "                                                                                                      leaking_20.shape,\n",
    "                                                                                                      leaking_30.shape,\n",
    "                                                                                                      leaking_40.shape,\n",
    "                                                                                                      normal.shape))"
   ]
  },
  {
   "cell_type": "markdown",
   "metadata": {},
   "source": [
    "# Trim Edge"
   ]
  },
  {
   "cell_type": "code",
   "execution_count": 42,
   "metadata": {},
   "outputs": [],
   "source": [
    "def trimEdge (dtset,n_excluded):\n",
    "    dtset = dtset[n_excluded:]\n",
    "    return dtset"
   ]
  },
  {
   "cell_type": "code",
   "execution_count": 43,
   "metadata": {},
   "outputs": [],
   "source": [
    "# extracted 20% y for test TimeSeries\n",
    "def extracted20(pdDataserie):\n",
    "    bound = int(len(pdDataserie)*.8)\n",
    "    train = pdDataserie[:bound]\n",
    "    test = pdDataserie[bound:]\n",
    "    return train, test"
   ]
  },
  {
   "cell_type": "code",
   "execution_count": 44,
   "metadata": {},
   "outputs": [],
   "source": [
    "exclude = 500\n",
    "normal = trimEdge(normal,exclude)\n",
    "leaking_10 = trimEdge(leaking_10,exclude)\n",
    "leaking_20 = trimEdge(leaking_20,exclude)\n",
    "leaking_30 = trimEdge(leaking_30,exclude)\n",
    "leaking_40 = trimEdge(leaking_40,exclude)"
   ]
  },
  {
   "cell_type": "code",
   "execution_count": 45,
   "metadata": {},
   "outputs": [],
   "source": [
    "train_normal, test_normal = extracted20(normal)\n",
    "train_leaking10, test_leaking10 = extracted20(leaking_10)\n",
    "train_leaking20, test_leaking20 = extracted20(leaking_20)\n",
    "train_leaking30, test_leaking30 = extracted20(leaking_30)\n",
    "train_leaking40, test_leaking40 = extracted20(leaking_40)"
   ]
  },
  {
   "cell_type": "code",
   "execution_count": 46,
   "metadata": {},
   "outputs": [
    {
     "name": "stdout",
     "output_type": "stream",
     "text": [
      "(18760, 13)\n",
      "(18760, 12) (18760, 1)\n",
      "(4695, 13)\n",
      "(4695, 12) (4695, 1)\n"
     ]
    }
   ],
   "source": [
    "# concatenating train dataframes\n",
    "data_train = train_normal.append(train_leaking10, ignore_index=True, sort=False)\n",
    "data_train = data_train.append(train_leaking20, ignore_index=True, sort=False)\n",
    "data_train = data_train.append(train_leaking30, ignore_index=True, sort=False)\n",
    "data_train = data_train.append(train_leaking40, ignore_index=True, sort=False)\n",
    "print(data_train.shape)\n",
    "\n",
    "data_train = np.asarray(data_train)\n",
    "x_train,y_train = (data_train[:,:-1],data_train[:,-1])\n",
    "y_train = np.expand_dims(y_train, axis=1)\n",
    "print(x_train.shape,y_train.shape)\n",
    "\n",
    "# concatenating test dataframes\n",
    "data_test = test_normal.append(test_leaking10, ignore_index=True, sort=False)\n",
    "data_test = data_test.append(test_leaking20, ignore_index=True, sort=False)\n",
    "data_test = data_test.append(test_leaking30, ignore_index=True, sort=False)\n",
    "data_test = data_test.append(test_leaking40, ignore_index=True, sort=False)\n",
    "print(data_test.shape)\n",
    "\n",
    "data_test = np.asarray(data_test)\n",
    "x_test,y_test = (data_test[:,:-1],data_test[:,-1])\n",
    "y_test = np.expand_dims(y_test, axis=1)\n",
    "print(x_test.shape,y_test.shape)"
   ]
  },
  {
   "cell_type": "code",
   "execution_count": 47,
   "metadata": {},
   "outputs": [],
   "source": [
    "main_path = '../overfitting/setTraining/select_noOhe/TimeSeries_Prepared/y_extracted/'\n",
    "np.save(main_path +'train.npy',x_train)\n",
    "np.save(main_path +'y_train.npy',y_train)\n",
    "np.save(main_path +'test.npy',x_test)\n",
    "np.save(main_path +'y_test.npy',y_test)"
   ]
  }
 ],
 "metadata": {
  "kernelspec": {
   "display_name": "Python 3",
   "language": "python",
   "name": "python3"
  },
  "language_info": {
   "codemirror_mode": {
    "name": "ipython",
    "version": 3
   },
   "file_extension": ".py",
   "mimetype": "text/x-python",
   "name": "python",
   "nbconvert_exporter": "python",
   "pygments_lexer": "ipython3",
   "version": "3.9.7"
  }
 },
 "nbformat": 4,
 "nbformat_minor": 4
}

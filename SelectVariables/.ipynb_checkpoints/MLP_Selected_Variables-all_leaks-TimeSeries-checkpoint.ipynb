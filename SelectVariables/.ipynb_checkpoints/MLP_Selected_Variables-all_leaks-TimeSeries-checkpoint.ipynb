{
 "cells": [
  {
   "cell_type": "markdown",
   "metadata": {},
   "source": [
    "# apenas 12 variaveis - todos vazamentos"
   ]
  },
  {
   "cell_type": "code",
   "execution_count": 24,
   "metadata": {},
   "outputs": [],
   "source": [
    "import pandas as pd\n",
    "import xlrd\n",
    "import numpy as np\n",
    "import seaborn as sns\n",
    "import matplotlib.pyplot as plt"
   ]
  },
  {
   "cell_type": "code",
   "execution_count": 25,
   "metadata": {},
   "outputs": [
    {
     "name": "stdout",
     "output_type": "stream",
     "text": [
      "12\n"
     ]
    }
   ],
   "source": [
    "variables = [\"TEI\",\"TEO\",\"TCI\",\"TCO\",\"PRE\",\"PRC\",\"T_suc\",\"TR_dis\",\"Amps\",\"kW\",\"TO_feed\",\"PO_feed\"]\n",
    "print(len(variables))"
   ]
  },
  {
   "cell_type": "code",
   "execution_count": 26,
   "metadata": {},
   "outputs": [
    {
     "name": "stdout",
     "output_type": "stream",
     "text": [
      "shapes -- leaking10 = (5191, 12), leaking 20 = (5191, 12), leaking30 = (5191, 12), leaking40 = (5191, 12), normal = (5191, 12)\n"
     ]
    }
   ],
   "source": [
    "sheet = \"Complete Data Set\"\n",
    "path_to_xls = \"F:/Talles/Doutorado/database/1043-RP/FDD Data/Refrigerant leak/rl10.xls\"\n",
    "leaking_10 = pd.read_excel(path_to_xls,sheet)\n",
    "leaking_10 = leaking_10.loc[:, variables]\n",
    "path_to_xls = \"F:/Talles/Doutorado/database/1043-RP/FDD Data/Refrigerant leak/rl20.xls\"\n",
    "leaking_20 = pd.read_excel(path_to_xls,sheet)\n",
    "leaking_20 = leaking_20.loc[:, variables]\n",
    "path_to_xls = \"F:/Talles/Doutorado/database/1043-RP/FDD Data/Refrigerant leak/rl30.xls\"\n",
    "leaking_30 = pd.read_excel(path_to_xls,sheet)\n",
    "leaking_30 = leaking_30.loc[:, variables]\n",
    "path_to_xls = \"F:/Talles/Doutorado/database/1043-RP/FDD Data/Refrigerant leak/rl40.xls\"\n",
    "leaking_40 = pd.read_excel(path_to_xls,sheet)\n",
    "leaking_40 = leaking_40.loc[:, variables]\n",
    "path_to_xls = \"F:/Talles/Doutorado/database/1043-RP/FDD Data/Benchmark Tests/normal r.xls\"\n",
    "normal = pd.read_excel(path_to_xls,sheet)\n",
    "normal = normal.loc[:, variables]\n",
    "print(\"shapes -- leaking10 = {}, leaking 20 = {}, leaking30 = {}, leaking40 = {}, normal = {}\".format(leaking_10.shape,\n",
    "                                                                                                      leaking_20.shape,\n",
    "                                                                                                      leaking_30.shape,\n",
    "                                                                                                      leaking_40.shape,\n",
    "                                                                                                      normal.shape))"
   ]
  },
  {
   "cell_type": "code",
   "execution_count": 27,
   "metadata": {},
   "outputs": [],
   "source": [
    "from sklearn import decomposition\n",
    "from sklearn.preprocessing import StandardScaler"
   ]
  },
  {
   "cell_type": "code",
   "execution_count": 28,
   "metadata": {},
   "outputs": [
    {
     "name": "stdout",
     "output_type": "stream",
     "text": [
      "shapes -- leaking10 = (5191, 13), leaking 20 = (5191, 13), leaking30 = (5191, 13), leaking40 = (5191, 13), normal = (5191, 13)\n"
     ]
    }
   ],
   "source": [
    "# adding column with constant value\n",
    "# 0 for no leak, 1 for leaking\n",
    "normal['y'] = pd.Series([0 for x in range(len(normal.index))])\n",
    "leaking_10['y'] = pd.Series([1 for x in range(len(leaking_10.index))])\n",
    "leaking_20['y'] = pd.Series([2 for x in range(len(leaking_20.index))])\n",
    "leaking_30['y'] = pd.Series([3 for x in range(len(leaking_30.index))])\n",
    "leaking_40['y'] = pd.Series([4 for x in range(len(leaking_40.index))])\n",
    "print(\"shapes -- leaking10 = {}, leaking 20 = {}, leaking30 = {}, leaking40 = {}, normal = {}\".format(leaking_10.shape,\n",
    "                                                                                                      leaking_20.shape,\n",
    "                                                                                                      leaking_30.shape,\n",
    "                                                                                                      leaking_40.shape,\n",
    "                                                                                                      normal.shape))"
   ]
  },
  {
   "cell_type": "code",
   "execution_count": 29,
   "metadata": {},
   "outputs": [
    {
     "name": "stdout",
     "output_type": "stream",
     "text": [
      "(25955, 13)\n",
      "(25955, 12) (25955, 1)\n"
     ]
    }
   ],
   "source": [
    "# concatenating dataframes\n",
    "data = normal.append(leaking_10, ignore_index=True, sort=False)\n",
    "data = data.append(leaking_20, ignore_index=True, sort=False)\n",
    "data = data.append(leaking_30, ignore_index=True, sort=False)\n",
    "data = data.append(leaking_40, ignore_index=True, sort=False)\n",
    "print(data.shape)\n",
    "\n",
    "data = np.asarray(data)\n",
    "x,y = (data[:,:-1],data[:,-1])\n",
    "y = np.expand_dims(y, axis=1)\n",
    "print(x.shape,y.shape)"
   ]
  },
  {
   "cell_type": "code",
   "execution_count": 30,
   "metadata": {},
   "outputs": [
    {
     "data": {
      "text/plain": [
       "(25955, 5)"
      ]
     },
     "execution_count": 30,
     "metadata": {},
     "output_type": "execute_result"
    }
   ],
   "source": [
    "# one hot enconder\n",
    "from sklearn.preprocessing import OneHotEncoder\n",
    "ohe = OneHotEncoder()\n",
    "y = ohe.fit_transform(y).toarray()\n",
    "\n",
    "y.shape"
   ]
  },
  {
   "cell_type": "code",
   "execution_count": 31,
   "metadata": {},
   "outputs": [],
   "source": [
    "from sklearn.neural_network import MLPClassifier\n",
    "from sklearn.model_selection import train_test_split"
   ]
  },
  {
   "cell_type": "code",
   "execution_count": 32,
   "metadata": {},
   "outputs": [
    {
     "name": "stdout",
     "output_type": "stream",
     "text": [
      "(17389, 12) (8566, 12) (17389, 5) (8566, 5)\n"
     ]
    }
   ],
   "source": [
    "# split into train test sets\n",
    "X_train, X_test, y_train, y_test = train_test_split(x, y, test_size=0.33, random_state=1)\n",
    "print(X_train.shape, X_test.shape, y_train.shape, y_test.shape)"
   ]
  },
  {
   "cell_type": "code",
   "execution_count": 33,
   "metadata": {},
   "outputs": [],
   "source": [
    "# standardscaler x data\n",
    "sc_x = StandardScaler()\n",
    "X_trainScaled = sc_x.fit_transform(X_train)\n",
    "X_testScaled = sc_x.fit_transform(X_test)"
   ]
  },
  {
   "cell_type": "code",
   "execution_count": 34,
   "metadata": {},
   "outputs": [
    {
     "name": "stdout",
     "output_type": "stream",
     "text": [
      "0.4451319168806911\n"
     ]
    }
   ],
   "source": [
    "clf = MLPClassifier(hidden_layer_sizes=(256,128,64,32),activation=\"relu\",random_state=1).fit(X_trainScaled, y_train)\n",
    "y_pred=clf.predict(X_testScaled)\n",
    "print(clf.score(X_testScaled, y_test))"
   ]
  }
 ],
 "metadata": {
  "kernelspec": {
   "display_name": "Python 3",
   "language": "python",
   "name": "python3"
  },
  "language_info": {
   "codemirror_mode": {
    "name": "ipython",
    "version": 3
   },
   "file_extension": ".py",
   "mimetype": "text/x-python",
   "name": "python",
   "nbconvert_exporter": "python",
   "pygments_lexer": "ipython3",
   "version": "3.6.7"
  }
 },
 "nbformat": 4,
 "nbformat_minor": 4
}

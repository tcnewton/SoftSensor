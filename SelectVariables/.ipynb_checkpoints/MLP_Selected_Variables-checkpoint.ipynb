{
 "cells": [
  {
   "cell_type": "markdown",
   "metadata": {},
   "source": [
    "# apenas um vazamento - 12 variaveis"
   ]
  },
  {
   "cell_type": "code",
   "execution_count": 1,
   "metadata": {},
   "outputs": [],
   "source": [
    "import pandas as pd\n",
    "import xlrd\n",
    "import numpy as np\n",
    "import seaborn as sns\n",
    "import matplotlib.pyplot as plt"
   ]
  },
  {
   "cell_type": "code",
   "execution_count": 2,
   "metadata": {},
   "outputs": [
    {
     "name": "stdout",
     "output_type": "stream",
     "text": [
      "12\n"
     ]
    }
   ],
   "source": [
    "variables = [\"TEI\",\"TEO\",\"TCI\",\"TCO\",\"PRE\",\"PRC\",\"T_suc\",\"TR_dis\",\"Amps\",\"kW\",\"TO_feed\",\"PO_feed\"]\n",
    "print(len(variables))"
   ]
  },
  {
   "cell_type": "code",
   "execution_count": 3,
   "metadata": {},
   "outputs": [
    {
     "name": "stdout",
     "output_type": "stream",
     "text": [
      "(5191, 12)\n",
      "(5191, 12)\n"
     ]
    }
   ],
   "source": [
    "path_to_xls = \"F:/Talles/Doutorado/database/1043-RP/FDD Data/Refrigerant leak/rl40.xls\"\n",
    "sheet = \"Complete Data Set\"\n",
    "leaking_40 = pd.read_excel(path_to_xls,sheet)\n",
    "minusvar_leaking_40 = leaking_40.loc[:, variables]\n",
    "path_to_xls = \"F:/Talles/Doutorado/database/1043-RP/FDD Data/Benchmark Tests/normal r.xls\"\n",
    "minusvar_normal = pd.read_excel(path_to_xls,sheet)\n",
    "minusvar_normal = minusvar_normal.loc[:, variables]\n",
    "print(np.shape(minusvar_leaking_40))\n",
    "print(np.shape(minusvar_normal))"
   ]
  },
  {
   "cell_type": "code",
   "execution_count": 4,
   "metadata": {},
   "outputs": [],
   "source": [
    "from sklearn import decomposition\n",
    "from sklearn.preprocessing import StandardScaler"
   ]
  },
  {
   "cell_type": "code",
   "execution_count": 5,
   "metadata": {},
   "outputs": [
    {
     "data": {
      "text/plain": [
       "'st_Normal = StandardScaler().fit_transform(minusvar_normal)\\nst_leaking = StandardScaler().fit_transform(minusvar_leaking_40)\\nprint(\"st_Normal.shape := {} and st_leaking.shape := {}\".format(st_Normal.shape,st_leaking.shape))\\nst_Normal = np.c_[st_Normal,np.zeros(len(st_Normal))]\\nst_leaking = np.c_[st_leaking,np.ones(len(st_leaking))]\\nprint(\"adding column y\")\\nprint(\"st_Normal.shape := {} and st_leaking.shape := {}\".format(st_Normal.shape,st_leaking.shape))'"
      ]
     },
     "execution_count": 5,
     "metadata": {},
     "output_type": "execute_result"
    }
   ],
   "source": [
    "\"\"\"st_Normal = StandardScaler().fit_transform(minusvar_normal)\n",
    "st_leaking = StandardScaler().fit_transform(minusvar_leaking_40)\n",
    "print(\"st_Normal.shape := {} and st_leaking.shape := {}\".format(st_Normal.shape,st_leaking.shape))\n",
    "st_Normal = np.c_[st_Normal,np.zeros(len(st_Normal))]\n",
    "st_leaking = np.c_[st_leaking,np.ones(len(st_leaking))]\n",
    "print(\"adding column y\")\n",
    "print(\"st_Normal.shape := {} and st_leaking.shape := {}\".format(st_Normal.shape,st_leaking.shape))\"\"\""
   ]
  },
  {
   "cell_type": "code",
   "execution_count": 6,
   "metadata": {},
   "outputs": [],
   "source": [
    "# adding column with constant value\n",
    "# 0 for no leak, 1 for leaking\n",
    "minusvar_normal['y'] = pd.Series([0 for x in range(len(minusvar_normal.index))])\n",
    "minusvar_leaking_40['y'] = pd.Series([1 for x in range(len(minusvar_leaking_40.index))])\n",
    "# concatenating dataframes\n",
    "data = minusvar_normal.append(minusvar_leaking_40, ignore_index=True, sort=False)"
   ]
  },
  {
   "cell_type": "code",
   "execution_count": 7,
   "metadata": {},
   "outputs": [
    {
     "name": "stdout",
     "output_type": "stream",
     "text": [
      "(10382, 12) (10382,)\n"
     ]
    }
   ],
   "source": [
    "data = np.asarray(data)\n",
    "x,y = (data[:,:-1],data[:,-1])\n",
    "print(x.shape,y.shape)"
   ]
  },
  {
   "cell_type": "code",
   "execution_count": 8,
   "metadata": {},
   "outputs": [],
   "source": [
    "from sklearn.neural_network import MLPClassifier\n",
    "from sklearn.model_selection import train_test_split"
   ]
  },
  {
   "cell_type": "code",
   "execution_count": 9,
   "metadata": {},
   "outputs": [
    {
     "name": "stdout",
     "output_type": "stream",
     "text": [
      "(6955, 12) (3427, 12) (6955,) (3427,)\n"
     ]
    }
   ],
   "source": [
    "# split into train test sets\n",
    "X_train, X_test, y_train, y_test = train_test_split(x, y, test_size=0.33, random_state=1)\n",
    "print(X_train.shape, X_test.shape, y_train.shape, y_test.shape)"
   ]
  },
  {
   "cell_type": "code",
   "execution_count": 10,
   "metadata": {},
   "outputs": [],
   "source": [
    "# standardscaler x data\n",
    "sc_x = StandardScaler()\n",
    "X_trainScaled = sc_x.fit_transform(X_train)\n",
    "X_testScaled = sc_x.fit_transform(X_test)"
   ]
  },
  {
   "cell_type": "code",
   "execution_count": 11,
   "metadata": {},
   "outputs": [
    {
     "name": "stdout",
     "output_type": "stream",
     "text": [
      "0.997957397140356\n"
     ]
    }
   ],
   "source": [
    "clf = MLPClassifier(hidden_layer_sizes=(256,128,64,32),activation=\"relu\",random_state=1).fit(X_trainScaled, y_train)\n",
    "y_pred=clf.predict(X_testScaled)\n",
    "print(clf.score(X_testScaled, y_test))"
   ]
  }
 ],
 "metadata": {
  "kernelspec": {
   "display_name": "Python 3",
   "language": "python",
   "name": "python3"
  },
  "language_info": {
   "codemirror_mode": {
    "name": "ipython",
    "version": 3
   },
   "file_extension": ".py",
   "mimetype": "text/x-python",
   "name": "python",
   "nbconvert_exporter": "python",
   "pygments_lexer": "ipython3",
   "version": "3.6.7"
  }
 },
 "nbformat": 4,
 "nbformat_minor": 4
}
